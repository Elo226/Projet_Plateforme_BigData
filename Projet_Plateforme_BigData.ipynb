{
 "cells": [
  {
   "cell_type": "markdown",
   "id": "c97255b7-6f0e-4f64-820f-e1842e697460",
   "metadata": {},
   "source": [
    "# Projet Platformes Big Data\n",
    "## Analyse des données de vols avec Apache Spark\n",
    "### Presenté par DABGO Ariane\n",
    "### Professeur: Mr PREIRA"
   ]
  },
  {
   "cell_type": "code",
   "execution_count": null,
   "id": "7bd6ffb3-1ce2-49fd-b46f-4cd8e5c65599",
   "metadata": {},
   "outputs": [],
   "source": []
  },
  {
   "cell_type": "markdown",
   "id": "e16c7859-ae8c-4820-abdf-ec1342d2759c",
   "metadata": {},
   "source": [
    "Le projet consiste à analyser les données de vols aux États-Unis sur trois années consécutives à l'aide d'Apache Spark, en réalisant des requêtes analytiques et des visualisations pour identifier les tendances et obtenir des statistiques sur les vols annulés.\n",
    "\n",
    "Notre choix s'est porté sur les années 2000, 2001 et 2002.\n"
   ]
  },
  {
   "cell_type": "code",
   "execution_count": null,
   "id": "32f5bf25-4edb-4f8f-876c-a2be29f4b71e",
   "metadata": {},
   "outputs": [],
   "source": []
  },
  {
   "cell_type": "markdown",
   "id": "6bdabc68-0258-475f-96d1-3d3f76d67c63",
   "metadata": {},
   "source": [
    "Pour la réalisation des requêtes analytiques, nous avons utilisé certaines fonctions:\n",
    " \n",
    "  ##### groupBy(column) : \n",
    "    Permet de regrouper les données selon les valeurs d'une ou plusieurs colonnes.\n",
    "    \n",
    "   ##### agg(aggregationFunction(\"column\")):\n",
    "    Applique une fonction d'agrégation (comme count, sum, avg) aux données groupées.\n",
    "    \n",
    "   ##### withColumn(\"column\", newColumnValue) : \n",
    "    Ajoute ou remplace une colonne dans le DataFrame avec de nouvelles valeurs.\n",
    "\n",
    "   ##### withColumnRenamed() : \n",
    "    Renomme une colonne dans un DataFrame.\n",
    "    \n",
    "   ##### toPandas(): \n",
    "    Convertit un DataFrame Spark en DataFrame Pandas pour l'analyse et la visualisation avec des bibliothèques Python\n",
    "    \n",
    "   ##### count(\"column\") :\n",
    "    Compte le nombre de valeurs non nulles dans une colonne spécifiée.\n",
    "    \n",
    "   ##### avg(\"column\") : \n",
    "    Calcule la moyenne des valeurs dans une colonne spécifiée.\n",
    "    \n",
    "   ##### sum(\"column\") : \n",
    "    Calcule la somme des valeurs dans une colonne spécifiée.\n",
    "\n",
    "   ##### filter(condition) :\n",
    "    Filtre les lignes du DataFrame en fonction de la condition spécifiée.\n",
    "    \n",
    "   ##### dayofyear(col(\"date\")) : \n",
    "    Extrait le jour de l'année à partir d'une colonne de date.\n",
    "    \n",
    "   ##### to_date(col(\"dateString\")) :\n",
    "    Convertit une chaîne de caractères représentant une date en un type date.\n",
    "\n",
    "   ##### pivot(column, values)\n",
    "    Crée une table croisée dynamique en pivotant les valeurs d'une colonne sur des colonnes distinctes.\n",
    "\n",
    "   ##### cast(data_type) : \n",
    "    Convertit les données d'une colonne dans un type de données spécifique.\n",
    "\n",
    "   \n",
    "        "
   ]
  },
  {
   "cell_type": "markdown",
   "id": "64f6def4-ea18-4b48-b21f-a6d4a5e9bc5f",
   "metadata": {},
   "source": []
  },
  {
   "cell_type": "markdown",
   "id": "5cc59872-b2a2-458e-9c10-637bced9edfb",
   "metadata": {},
   "source": [
    "## I. Creation de la SparkSession"
   ]
  },
  {
   "cell_type": "markdown",
   "id": "7e6a4bc9-1bbb-4b83-8080-c572f2605e17",
   "metadata": {},
   "source": [
    "### Import de bibliothèques"
   ]
  },
  {
   "cell_type": "code",
   "execution_count": 7,
   "id": "eaa39920-c595-4d03-927b-3bb8c24fe846",
   "metadata": {},
   "outputs": [],
   "source": [
    "import pyspark\n",
    "from pyspark.sql import SparkSession\n",
    "from pyspark.sql import functions as F\n",
    "from pyspark.sql.functions import col\n",
    "from pyspark.sql.types import IntegerType, StringType\n",
    "from pyspark.sql.functions import sum as spark_sum\n",
    "from pyspark.sql.functions import col, expr, to_date, dayofyear\n",
    "import pandas as pd\n",
    "import seaborn as sns\n",
    "import matplotlib.pyplot as plt"
   ]
  },
  {
   "cell_type": "code",
   "execution_count": 8,
   "id": "2020102a-8e2c-467c-8a61-bcec066a1da1",
   "metadata": {},
   "outputs": [],
   "source": [
    "#Creation de la SparkSession\n",
    "spark = SparkSession.builder.appName(\"Analyse de données de vols\").getOrCreate()"
   ]
  },
  {
   "cell_type": "markdown",
   "id": "e2aa7555-b108-4923-9f53-e2b07382eed1",
   "metadata": {},
   "source": [
    "### Import des différents fichiers CSV"
   ]
  },
  {
   "cell_type": "code",
   "execution_count": 10,
   "id": "0fc77389-f1e2-45fb-a316-dcfa489e13c9",
   "metadata": {},
   "outputs": [],
   "source": [
    "df_2000 = spark.read.csv(\"2000.csv\", header=True, inferSchema=True)\n",
    "df_2001 = spark.read.csv(\"2001.csv\", header=True, inferSchema=True)\n",
    "df_2002 = spark.read.csv(\"2002.csv\", header=True, inferSchema=True)"
   ]
  },
  {
   "cell_type": "markdown",
   "id": "91ec5c44-81e0-4c88-8969-397186c76962",
   "metadata": {},
   "source": [
    "### Creation du DataFrame airlineDF"
   ]
  },
  {
   "cell_type": "code",
   "execution_count": 12,
   "id": "57635087-c823-47c2-be64-e6ff352095d9",
   "metadata": {},
   "outputs": [],
   "source": [
    "#Mise en commun des 3 fichiers CSV\n",
    "airlineDF = df_2000.union(df_2001).union(df_2002)"
   ]
  },
  {
   "cell_type": "code",
   "execution_count": 13,
   "id": "ce4d81a7-a52c-4890-93f5-b95169bd3d21",
   "metadata": {},
   "outputs": [
    {
     "name": "stdout",
     "output_type": "stream",
     "text": [
      "+----+-----+----------+---------+-------+----------+-------+----------+-------------+---------+-------+-----------------+--------------+-------+--------+--------+------+----+--------+------+-------+---------+----------------+--------+------------+------------+--------+-------------+-----------------+\n",
      "|Year|Month|DayofMonth|DayOfWeek|DepTime|CRSDepTime|ArrTime|CRSArrTime|UniqueCarrier|FlightNum|TailNum|ActualElapsedTime|CRSElapsedTime|AirTime|ArrDelay|DepDelay|Origin|Dest|Distance|TaxiIn|TaxiOut|Cancelled|CancellationCode|Diverted|CarrierDelay|WeatherDelay|NASDelay|SecurityDelay|LateAircraftDelay|\n",
      "+----+-----+----------+---------+-------+----------+-------+----------+-------------+---------+-------+-----------------+--------------+-------+--------+--------+------+----+--------+------+-------+---------+----------------+--------+------------+------------+--------+-------------+-----------------+\n",
      "|2000|    1|        28|        5|   1647|      1647|   1906|      1859|           HP|      154| N808AW|              259|           252|    233|       7|       0|   ATL| PHX|    1587|    15|     11|        0|              NA|       0|          NA|          NA|      NA|           NA|               NA|\n",
      "|2000|    1|        29|        6|   1648|      1647|   1939|      1859|           HP|      154| N653AW|              291|           252|    239|      40|       1|   ATL| PHX|    1587|     5|     47|        0|              NA|       0|          NA|          NA|      NA|           NA|               NA|\n",
      "|2000|    1|        30|        7|     NA|      1647|     NA|      1859|           HP|      154| N801AW|               NA|           252|     NA|      NA|      NA|   ATL| PHX|    1587|     0|      0|        1|              NA|       0|          NA|          NA|      NA|           NA|               NA|\n",
      "|2000|    1|        31|        1|   1645|      1647|   1852|      1859|           HP|      154| N806AW|              247|           252|    226|      -7|      -2|   ATL| PHX|    1587|     7|     14|        0|              NA|       0|          NA|          NA|      NA|           NA|               NA|\n",
      "|2000|    1|         1|        6|    842|       846|   1057|      1101|           HP|      609| N158AW|              255|           255|    244|      -4|      -4|   ATL| PHX|    1587|     3|      8|        0|              NA|       0|          NA|          NA|      NA|           NA|               NA|\n",
      "+----+-----+----------+---------+-------+----------+-------+----------+-------------+---------+-------+-----------------+--------------+-------+--------+--------+------+----+--------+------+-------+---------+----------------+--------+------------+------------+--------+-------------+-----------------+\n",
      "only showing top 5 rows\n",
      "\n"
     ]
    }
   ],
   "source": [
    "#Affichage des 5 premieres lignes du dataframe\n",
    "airlineDF.show(5)"
   ]
  },
  {
   "cell_type": "code",
   "execution_count": 14,
   "id": "b52cf4a5-db92-48ee-a6c4-9effbcd245cf",
   "metadata": {},
   "outputs": [
    {
     "name": "stdout",
     "output_type": "stream",
     "text": [
      "root\n",
      " |-- Year: integer (nullable = true)\n",
      " |-- Month: integer (nullable = true)\n",
      " |-- DayofMonth: integer (nullable = true)\n",
      " |-- DayOfWeek: integer (nullable = true)\n",
      " |-- DepTime: string (nullable = true)\n",
      " |-- CRSDepTime: integer (nullable = true)\n",
      " |-- ArrTime: string (nullable = true)\n",
      " |-- CRSArrTime: integer (nullable = true)\n",
      " |-- UniqueCarrier: string (nullable = true)\n",
      " |-- FlightNum: integer (nullable = true)\n",
      " |-- TailNum: string (nullable = true)\n",
      " |-- ActualElapsedTime: string (nullable = true)\n",
      " |-- CRSElapsedTime: string (nullable = true)\n",
      " |-- AirTime: string (nullable = true)\n",
      " |-- ArrDelay: string (nullable = true)\n",
      " |-- DepDelay: string (nullable = true)\n",
      " |-- Origin: string (nullable = true)\n",
      " |-- Dest: string (nullable = true)\n",
      " |-- Distance: integer (nullable = true)\n",
      " |-- TaxiIn: integer (nullable = true)\n",
      " |-- TaxiOut: integer (nullable = true)\n",
      " |-- Cancelled: integer (nullable = true)\n",
      " |-- CancellationCode: string (nullable = true)\n",
      " |-- Diverted: integer (nullable = true)\n",
      " |-- CarrierDelay: string (nullable = true)\n",
      " |-- WeatherDelay: string (nullable = true)\n",
      " |-- NASDelay: string (nullable = true)\n",
      " |-- SecurityDelay: string (nullable = true)\n",
      " |-- LateAircraftDelay: string (nullable = true)\n",
      "\n"
     ]
    }
   ],
   "source": [
    "#Afficher la structure, y compris les différentes colonnes\n",
    "airlineDF.printSchema()"
   ]
  },
  {
   "cell_type": "markdown",
   "id": "2e4bc120-76e9-4747-a533-fa617fa4fb62",
   "metadata": {},
   "source": [
    "## II. Création du second DataFrame"
   ]
  },
  {
   "cell_type": "code",
   "execution_count": 16,
   "id": "86d1938f-1c6b-43eb-811e-8bb2341c1cdb",
   "metadata": {},
   "outputs": [],
   "source": [
    "#sélection des colonnes à utiliser\n",
    "selected_columns = [\"Year\", \"Month\", \"DayofMonth\", \"DepTime\", \"ArrTime\", \"UniqueCarrier\", \"Origin\", \"Dest\", \"Cancelled\"]\n",
    "\n",
    "#Création du 2e dataframe nommé secondDF\n",
    "secondDF = airlineDF.select([col(column) for column in selected_columns])"
   ]
  },
  {
   "cell_type": "code",
   "execution_count": 17,
   "id": "c0e552a1-7a05-431c-8fcc-7452dd266830",
   "metadata": {},
   "outputs": [],
   "source": [
    "# Remplacement des types de données des colonnes dans secondDF par des types appropriés\n",
    "secondDF = secondDF.withColumn(\"Year\", col(\"Year\").cast(IntegerType())) \\\n",
    "                       .withColumn(\"Month\", col(\"Month\").cast(IntegerType())) \\\n",
    "                       .withColumn(\"DayofMonth\", col(\"DayofMonth\").cast(IntegerType())) \\\n",
    "                       .withColumn(\"DepTime\", col(\"DepTime\").cast(IntegerType())) \\\n",
    "                       .withColumn(\"ArrTime\", col(\"ArrTime\").cast(IntegerType())) \\\n",
    "                       .withColumn(\"UniqueCarrier\", col(\"UniqueCarrier\").cast(StringType())) \\\n",
    "                       .withColumn(\"Origin\", col(\"Origin\").cast(StringType())) \\\n",
    "                       .withColumn(\"Dest\", col(\"Dest\").cast(StringType())) \\\n",
    "                       .withColumn(\"Cancelled\", col(\"Cancelled\").cast(IntegerType()))"
   ]
  },
  {
   "cell_type": "code",
   "execution_count": 18,
   "id": "abb86611-5210-41b4-8e92-f5c8f11a9128",
   "metadata": {},
   "outputs": [
    {
     "name": "stdout",
     "output_type": "stream",
     "text": [
      "+----+-----+----------+-------+-------+-------------+------+----+---------+\n",
      "|Year|Month|DayofMonth|DepTime|ArrTime|UniqueCarrier|Origin|Dest|Cancelled|\n",
      "+----+-----+----------+-------+-------+-------------+------+----+---------+\n",
      "|2000|    1|        28|   1647|   1906|           HP|   ATL| PHX|        0|\n",
      "|2000|    1|        29|   1648|   1939|           HP|   ATL| PHX|        0|\n",
      "|2000|    1|        30|   NULL|   NULL|           HP|   ATL| PHX|        1|\n",
      "|2000|    1|        31|   1645|   1852|           HP|   ATL| PHX|        0|\n",
      "|2000|    1|         1|    842|   1057|           HP|   ATL| PHX|        0|\n",
      "+----+-----+----------+-------+-------+-------------+------+----+---------+\n",
      "only showing top 5 rows\n",
      "\n"
     ]
    }
   ],
   "source": [
    "#Affichage des 5 premières lignes du dataframe\n",
    "secondDF.show(5)"
   ]
  },
  {
   "cell_type": "markdown",
   "id": "e5088f41-d747-4a9b-a9d2-e0e7678c4576",
   "metadata": {},
   "source": [
    "## III. Nombre de vols annulés pour chaque mois de chaque année"
   ]
  },
  {
   "cell_type": "code",
   "execution_count": 20,
   "id": "114fd925-eb21-44be-a296-468304e9d96d",
   "metadata": {},
   "outputs": [],
   "source": [
    "# Requete\n",
    "# Regroupe les données par année et mois, calcule la somme des vols annulés pour chaque groupe, et renomme la colonne résultante en \"TotalCancelled\"\n",
    "cancelled_flights = secondDF.groupBy(\"Year\", \"Month\").agg({\"Cancelled\": \"sum\"}).withColumnRenamed(\"sum(Cancelled)\", \"TotalCancelled\")"
   ]
  },
  {
   "cell_type": "code",
   "execution_count": 21,
   "id": "4f6f8b4f-5c1a-4d51-aa47-e46d93d515f2",
   "metadata": {},
   "outputs": [
    {
     "name": "stdout",
     "output_type": "stream",
     "text": [
      "+----+-----+--------------+\n",
      "|Year|Month|TotalCancelled|\n",
      "+----+-----+--------------+\n",
      "|2000|    1|         24515|\n",
      "|2000|    2|         15188|\n",
      "|2000|    4|         11642|\n",
      "|2000|    3|         10237|\n",
      "|2000|    5|         16513|\n",
      "|2000|    7|         15526|\n",
      "|2000|    6|         18632|\n",
      "|2000|    8|         14991|\n",
      "|2000|    9|         10365|\n",
      "|2000|   10|         10369|\n",
      "|2000|   11|         10912|\n",
      "|2000|   12|         28600|\n",
      "|2001|    1|         19891|\n",
      "|2001|    2|         17448|\n",
      "|2001|    3|         17876|\n",
      "|2001|    5|          9452|\n",
      "|2001|    4|         11414|\n",
      "|2001|    6|         15509|\n",
      "|2001|    7|         11286|\n",
      "|2001|    8|         13318|\n",
      "|2001|    9|         99324|\n",
      "|2001|   10|          6850|\n",
      "|2001|   11|          4497|\n",
      "|2001|   12|          4333|\n",
      "|2002|    2|          4323|\n",
      "|2002|    1|          7301|\n",
      "|2002|    3|          6033|\n",
      "|2002|    4|          4513|\n",
      "|2002|    5|          4442|\n",
      "|2002|    6|          7666|\n",
      "|2002|    7|          6260|\n",
      "|2002|    8|          5339|\n",
      "|2002|    9|          3686|\n",
      "|2002|   10|          4549|\n",
      "|2002|   11|          3675|\n",
      "|2002|   12|          7356|\n",
      "+----+-----+--------------+\n",
      "\n"
     ]
    }
   ],
   "source": [
    "#Affichage\n",
    "cancelled_flights.show(36)"
   ]
  },
  {
   "cell_type": "code",
   "execution_count": 22,
   "id": "fa3f7661-629f-4357-a25d-c38ab03cd6e9",
   "metadata": {},
   "outputs": [],
   "source": [
    "#Conversion en dataframe pandas pour la représentation du diagramme\n",
    "pandas_df = cancelled_flights.toPandas()"
   ]
  },
  {
   "cell_type": "code",
   "execution_count": 23,
   "id": "a9e73c97-e8ac-4e41-864d-79450eb6c7a4",
   "metadata": {},
   "outputs": [
    {
     "data": {
      "image/png": "[encoded data removed]",
      "text/plain": [
       "<Figure size 1200x800 with 1 Axes>"
      ]
     },
     "metadata": {},
     "output_type": "display_data"
    }
   ],
   "source": [
    "#Diagramme en baton\n",
    "plt.figure(figsize=(12, 8))\n",
    "sns.barplot(data=pandas_df, x=\"Month\", y=\"TotalCancelled\", hue=\"Year\")\n",
    "plt.title(\"Nombre de vols annulés par mois pour chaque année\")\n",
    "plt.xlabel(\"Mois\")\n",
    "plt.ylabel(\"Nombre de vols annulés\")\n",
    "plt.legend(title=\"Année\")\n",
    "plt.show()"
   ]
  },
  {
   "cell_type": "markdown",
   "id": "04502f19-a0be-42bd-8f76-794f7507ed62",
   "metadata": {},
   "source": [
    "Ce diagramme en bâton révèle que le plus grand nombre de vols annulés a été enregistré en septembre 2001. \n",
    "Aussi, contrairement aux autres années, 2002 est celle qui enregistre le moins de vols annulés"
   ]
  },
  {
   "cell_type": "code",
   "execution_count": null,
   "id": "4b4c0887-003a-48af-80bb-13b9aa6879b0",
   "metadata": {},
   "outputs": [],
   "source": []
  },
  {
   "cell_type": "markdown",
   "id": "05153d55-5560-47ee-b5b9-037d86950f84",
   "metadata": {},
   "source": [
    "## IV. Nombre de vols confirmés par mois pour chaque compagnies, par année"
   ]
  },
  {
   "cell_type": "code",
   "execution_count": 26,
   "id": "630e1145-597b-4e3d-a07b-e3c7b412b976",
   "metadata": {},
   "outputs": [],
   "source": [
    "#Filtre des vols confirmés (cancelled == 0)\n",
    "confirmedDF =secondDF.filter(col(\"Cancelled\") == 0)"
   ]
  },
  {
   "cell_type": "code",
   "execution_count": 27,
   "id": "52c52531-89a2-4974-aa48-1031c628fcd9",
   "metadata": {},
   "outputs": [],
   "source": [
    "#Requete pour l'an 2000\n",
    "#Comptage des vols confirmés par mois pour 2000\n",
    "An_2000 = confirmedDF.filter(col(\"Year\") == 2000) \\\n",
    "                        .groupBy(\"UniqueCarrier\") \\\n",
    "                        .pivot(\"Month\", list(range(1, 13))) \\\n",
    "                        .agg({\"Cancelled\": \"count\"}) \\\n",
    "                        .withColumnRenamed(\"count(Cancelled)\", \"TotalConfirmed\")\n"
   ]
  },
  {
   "cell_type": "code",
   "execution_count": 28,
   "id": "1a730749-4733-4e4f-8b12-d55ced042ec8",
   "metadata": {},
   "outputs": [],
   "source": [
    "#Requete pour l'an 2001\n",
    "# Comptage des vols confirmés par mois pour 2001\n",
    "An_2001 = confirmedDF.filter(col(\"Year\") == 2001) \\\n",
    "                        .groupBy(\"UniqueCarrier\") \\\n",
    "                        .pivot(\"Month\", list(range(1, 13))) \\\n",
    "                        .agg({\"Cancelled\": \"count\"}) \\\n",
    "                        .withColumnRenamed(\"count(Cancelled)\", \"TotalConfirmed\")\n"
   ]
  },
  {
   "cell_type": "code",
   "execution_count": 29,
   "id": "35798bdd-45b5-4d13-9c79-514e1cc87b9b",
   "metadata": {},
   "outputs": [],
   "source": [
    "#Requete pour l'an 2002\n",
    "# Comptage des vols confirmés par mois pour 2002\n",
    "An_2002 = confirmedDF.filter(col(\"Year\") == 2002) \\\n",
    "                        .groupBy(\"UniqueCarrier\") \\\n",
    "                        .pivot(\"Month\", list(range(1, 13))) \\\n",
    "                        .agg({\"Cancelled\": \"count\"}) \\\n",
    "                        .withColumnRenamed(\"count(Cancelled)\", \"TotalConfirmed\")"
   ]
  },
  {
   "cell_type": "code",
   "execution_count": 30,
   "id": "b5efb0d6-ebd0-4cec-9454-a6552210f735",
   "metadata": {},
   "outputs": [],
   "source": [
    "#Dictionnaire de correspondance numéro du mois au nom du mois.\n",
    "month_names = {1: \"jan\", 2: \"fev\", 3: \"mar\", 4: \"avr\", 5: \"mai\", 6: \"juin\",\n",
    "                7: \"juil\", 8: \"aout\", 9: \"sept\", 10: \"oct\", 11: \"nov\", 12: \"dec\"}\n"
   ]
  },
  {
   "cell_type": "code",
   "execution_count": 31,
   "id": "c65c719b-35c5-4680-b55e-4739d71b002a",
   "metadata": {},
   "outputs": [],
   "source": [
    "#Fonction de conversion du numéro en nom du mois\n",
    "def rename_month_columns(df):\n",
    "    columns = df.columns\n",
    "    for num, name in month_names.items():\n",
    "        old_col = str(num)\n",
    "        if old_col in columns:\n",
    "            df = df.withColumnRenamed(old_col, name)\n",
    "    return df"
   ]
  },
  {
   "cell_type": "code",
   "execution_count": 32,
   "id": "2ae42400-58f0-4169-8f51-2c941a6a4b86",
   "metadata": {},
   "outputs": [],
   "source": [
    "#Remplacement des numeros des mois des dataframes\n",
    "An_2000 = rename_month_columns(An_2000)\n",
    "An_2001 = rename_month_columns(An_2001)\n",
    "An_2002 = rename_month_columns(An_2002)"
   ]
  },
  {
   "cell_type": "code",
   "execution_count": 33,
   "id": "2dc594e2-84ec-4e90-915e-9d4d29b865a0",
   "metadata": {},
   "outputs": [],
   "source": [
    "#Conversion en dataframe pandas pour visualisation\n",
    "pandas_An_2000 = An_2000.toPandas()\n",
    "pandas_An_2001 = An_2001.toPandas()\n",
    "pandas_An_2002 = An_2002.toPandas()"
   ]
  },
  {
   "cell_type": "code",
   "execution_count": 34,
   "id": "af433a3d-4ab4-4e42-8c5f-5a117ef6a37b",
   "metadata": {},
   "outputs": [
    {
     "name": "stdout",
     "output_type": "stream",
     "text": [
      "Tableau des vols confirmés pour 2000\n",
      "   UniqueCarrier      jan      fev      mar      avr      mai     juin  \\\n",
      "0             UA  61229.0  58724.0  65259.0  62401.0  62049.0  61273.0   \n",
      "1             AA  58067.0  55309.0  60804.0  58230.0  59684.0  58217.0   \n",
      "2             NW  42854.0  41569.0  45403.0  43315.0  44456.0  45631.0   \n",
      "3             HP  17077.0  15957.0  17880.0  17280.0  18114.0  17559.0   \n",
      "4             TW  21662.0  20820.0  22692.0  22050.0  22347.0  22146.0   \n",
      "5             DL  72828.0  68951.0  76900.0  73781.0  74784.0  72694.0   \n",
      "6             US  55582.0  56026.0  61624.0  58265.0  60506.0  56953.0   \n",
      "7             AQ      NaN      NaN      NaN      NaN      NaN      NaN   \n",
      "8             AS  12193.0  10958.0  12558.0  11486.0  12173.0  12010.0   \n",
      "9             CO  31502.0  31044.0  34166.0  31992.0  32158.0  31574.0   \n",
      "10            WN  72968.0  69953.0  75421.0  72821.0  76125.0  74411.0   \n",
      "\n",
      "       juil     aout     sept      oct    nov    dec  \n",
      "0   61618.0  61503.0  59848.0  63181.0  57667  57648  \n",
      "1   61832.0  62315.0  59148.0  61520.0  59500  57962  \n",
      "2   47600.0  48127.0  43812.0  46501.0  43804  42925  \n",
      "3   17341.0  18086.0  17477.0  17896.0  17287  17784  \n",
      "4   22766.0  23170.0  21348.0  21955.0  20836  20085  \n",
      "5   73818.0  75571.0  71688.0  75973.0  71716  67756  \n",
      "6   61967.0  62527.0  61155.0  63768.0  61274  60922  \n",
      "7       NaN      NaN      NaN      NaN   5322   5541  \n",
      "8   12883.0  13282.0  12295.0  12620.0  11801  12406  \n",
      "9   32168.0  33191.0  30932.0  33173.0  31670  32170  \n",
      "10  75823.0  78603.0  75029.0  78805.0  75462  77239  \n"
     ]
    }
   ],
   "source": [
    "#Affichage pour l'an 2000\n",
    "print(\"Tableau des vols confirmés pour 2000\")\n",
    "print(pandas_An_2000)"
   ]
  },
  {
   "cell_type": "code",
   "execution_count": 35,
   "id": "594f4b77-e5de-4719-9794-4c28ac0856fb",
   "metadata": {},
   "outputs": [
    {
     "name": "stdout",
     "output_type": "stream",
     "text": [
      "Tableau des vols confirmés pour 2001\n",
      "   UniqueCarrier    jan    fev    mar    avr    mai   juin   juil   aout  \\\n",
      "0             UA  59991  54555  61468  59372  62662  61590  64200  64737   \n",
      "1             AA  61478  55245  61673  60605  62512  60580  63539  63356   \n",
      "2             NW  44500  40507  45529  44646  46752  45935  48770  49050   \n",
      "3             HP  18510  16822  18681  17467  17922  17586  18284  18617   \n",
      "4             TW  21461  19178  21408  20377  21739  21342  22011  22046   \n",
      "5             DL  72866  65100  72075  70811  72271  69542  72298  72701   \n",
      "6             AQ   5321   4749   5394   5297   5517   5600   5919   5841   \n",
      "7             US  61871  55323  60842  60521  62484  58813  60274  60593   \n",
      "8             MQ  38860  35426  39881  39673  41445  39442  41461  41446   \n",
      "9             AS  12520  11331  12811  12596  13365  13788  14830  14842   \n",
      "10            CO  33283  30140  33310  32892  33041  31669  33203  34624   \n",
      "11            WN  79388  72000  80171  78516  80778  78834  82365  83180   \n",
      "\n",
      "     sept    oct      nov      dec  \n",
      "0   43348  50934  43184.0  44414.0  \n",
      "1   43291  51170  49323.0  51983.0  \n",
      "2   35245  37341  37427.0  39849.0  \n",
      "3   15007  16068  13906.0  14730.0  \n",
      "4   17064  18990  16514.0  16844.0  \n",
      "5   55442  59584  58410.0  61310.0  \n",
      "6    4529   4142      NaN      NaN  \n",
      "7   41934  42357  46493.0  46627.0  \n",
      "8   32585  36319  33347.0  34151.0  \n",
      "9   10267  11132  11340.0  11800.0  \n",
      "10  23393  26355  26688.0  27687.0  \n",
      "11  69269  82554  76257.0  76141.0  \n"
     ]
    }
   ],
   "source": [
    "#Affichage pour l'an 2001\n",
    "print(\"Tableau des vols confirmés pour 2001\")\n",
    "print(pandas_An_2001)"
   ]
  },
  {
   "cell_type": "code",
   "execution_count": 36,
   "id": "10e052e5-e168-4cf1-85ed-36d63e122511",
   "metadata": {},
   "outputs": [
    {
     "name": "stdout",
     "output_type": "stream",
     "text": [
      "Tableau des vols confirmés pour 2002\n",
      "  UniqueCarrier    jan    fev    mar    avr    mai   juin   juil   aout  \\\n",
      "0            UA  45056  41835  46630  47223  49123  50800  53489  54102   \n",
      "1            AA  69356  62701  71121  71145  73628  71590  75708  74297   \n",
      "2            NW  39085  37149  41957  40607  42084  43565  46368  47010   \n",
      "3            HP  15017  13665  16141  15994  16595  16891  17240  17311   \n",
      "4            DL  60826  55918  62691  60793  61853  61016  62410  63036   \n",
      "5            US  46420  42233  46134  43657  44661  42562  43785  44166   \n",
      "6            MQ  34922  32660  35837  35621  36272  35048  37017  36833   \n",
      "7            AS  11735  11376  12886  12675  13467  13828  14746  14789   \n",
      "8            CO  27413  25439  28842  27829  27771  26988  27751  28180   \n",
      "9            WN  79205  72236  79624  78084  80150  78379  80799  81701   \n",
      "\n",
      "    sept    oct    nov    dec  \n",
      "0  49447  51461  46002  48097  \n",
      "1  68725  71337  65775  67435  \n",
      "2  41334  43246  41460  42151  \n",
      "3  16353  17082  15826  15973  \n",
      "4  56913  60379  57041  57817  \n",
      "5  40643  39135  36866  35770  \n",
      "6  36067  37780  34680  34470  \n",
      "7  13053  12857  11770  12459  \n",
      "8  25416  26952  25157  26211  \n",
      "9  78359  81812  76772  79386  \n"
     ]
    }
   ],
   "source": [
    "#Affichage pour l'an 2002\n",
    "print(\"Tableau des vols confirmés pour 2002\")\n",
    "print(pandas_An_2002)"
   ]
  },
  {
   "cell_type": "code",
   "execution_count": null,
   "id": "a2a15499-061f-4eca-a132-c773a9c108e8",
   "metadata": {},
   "outputs": [],
   "source": []
  },
  {
   "cell_type": "code",
   "execution_count": null,
   "id": "64f12838-44bc-4406-99fa-90fd20d9c51c",
   "metadata": {},
   "outputs": [],
   "source": []
  },
  {
   "cell_type": "markdown",
   "id": "48aaecff-0693-4bf0-84e0-290763d5fdf4",
   "metadata": {},
   "source": [
    "## V. Courbe de l'évolution quotidienne des vols annulés"
   ]
  },
  {
   "cell_type": "code",
   "execution_count": 38,
   "id": "e93b0c01-45fd-4d30-9ad6-8015f88b78bc",
   "metadata": {},
   "outputs": [],
   "source": [
    "#Concatenation de la date (jour-mois-année) dans une colonne Date\n",
    "secondDF = secondDF.withColumn(\"Date\", to_date(expr(\"concat(Year, '-', Month, '-', DayofMonth)\"), 'yyyy-M-d'))"
   ]
  },
  {
   "cell_type": "code",
   "execution_count": 39,
   "id": "065ec8ac-8008-4261-a322-aef4cf8de051",
   "metadata": {},
   "outputs": [],
   "source": [
    "#Calcul du jour de l'année puis ajout au dataframe\n",
    "secondDF = secondDF.withColumn(\"DayofYear\", dayofyear(col(\"Date\")))"
   ]
  },
  {
   "cell_type": "code",
   "execution_count": 40,
   "id": "f9be440f-0f21-440a-974a-df9fafbcdb3c",
   "metadata": {},
   "outputs": [],
   "source": [
    "#filtrage des vols annulés\n",
    "cancelledDF = secondDF.filter(col(\"Cancelled\") == 1)"
   ]
  },
  {
   "cell_type": "code",
   "execution_count": 41,
   "id": "84ae6396-664e-44c0-99e7-20f8defdea23",
   "metadata": {},
   "outputs": [],
   "source": [
    "#Requete\n",
    "#Comptage des vols annulés par année et jour de l'année\n",
    "daily_cancelled_flights = cancelledDF.groupBy(\"Year\", \"DayofYear\") \\\n",
    "                                         .agg({\"Cancelled\": \"count\"}) \\\n",
    "                                         .withColumnRenamed(\"count(Cancelled)\", \"TotalCancelled\")\n"
   ]
  },
  {
   "cell_type": "code",
   "execution_count": 42,
   "id": "6b162ee5-6401-4c70-a10f-cd6de94f0ac7",
   "metadata": {},
   "outputs": [],
   "source": [
    "# Séparation par année et conversion en dataframe pandas pour la visualisation\n",
    "pandas_daily_cancelled_2000 = daily_cancelled_flights.filter(col(\"Year\") == 2000).toPandas()\n",
    "pandas_daily_cancelled_2001 = daily_cancelled_flights.filter(col(\"Year\") == 2001).toPandas()\n",
    "pandas_daily_cancelled_2002 = daily_cancelled_flights.filter(col(\"Year\") == 2002).toPandas()\n"
   ]
  },
  {
   "cell_type": "code",
   "execution_count": 43,
   "id": "2529840e-d422-463d-ad70-c0ae353f8a82",
   "metadata": {},
   "outputs": [
    {
     "data": {
      "text/plain": [
       "<Figure size 1400x800 with 0 Axes>"
      ]
     },
     "execution_count": 43,
     "metadata": {},
     "output_type": "execute_result"
    },
    {
     "data": {
      "text/plain": [
       "<Figure size 1400x800 with 0 Axes>"
      ]
     },
     "metadata": {},
     "output_type": "display_data"
    }
   ],
   "source": [
    "#Affichage\n",
    "plt.figure(figsize=(14, 8))"
   ]
  },
  {
   "cell_type": "code",
   "execution_count": 44,
   "id": "3438db7c-8b69-461c-87b3-e4ac2497c5a3",
   "metadata": {},
   "outputs": [
    {
     "data": {
      "text/plain": [
       "<Axes: xlabel='DayofYear', ylabel='TotalCancelled'>"
      ]
     },
     "execution_count": 44,
     "metadata": {},
     "output_type": "execute_result"
    },
    {
     "data": {
      "image/png": "[encoded data removed]",
      "text/plain": [
       "<Figure size 640x480 with 1 Axes>"
      ]
     },
     "metadata": {},
     "output_type": "display_data"
    }
   ],
   "source": [
    "#Année 2000\n",
    "sns.lineplot(data=pandas_daily_cancelled_2000, x=\"DayofYear\", y=\"TotalCancelled\", color=\"blue\", label=\"2000\")"
   ]
  },
  {
   "cell_type": "markdown",
   "id": "332dfc93-e9a5-4ffe-891d-a564df6759cc",
   "metadata": {},
   "source": [
    "À partir de cette courbe, nous pouvons conclure qu'en 2000, le maximum des vols annulés a été enregistré aux environs du 30e jour de l'année."
   ]
  },
  {
   "cell_type": "code",
   "execution_count": null,
   "id": "a900907a-a8f7-43e3-9468-5b7371f53d1a",
   "metadata": {},
   "outputs": [],
   "source": []
  },
  {
   "cell_type": "code",
   "execution_count": 46,
   "id": "d4323eb9-73f2-492f-ae8d-373f0401afc1",
   "metadata": {},
   "outputs": [
    {
     "data": {
      "text/plain": [
       "<Axes: xlabel='DayofYear', ylabel='TotalCancelled'>"
      ]
     },
     "execution_count": 46,
     "metadata": {},
     "output_type": "execute_result"
    },
    {
     "data": {
      "image/png": "[encoded data removed]",
      "text/plain": [
       "<Figure size 640x480 with 1 Axes>"
      ]
     },
     "metadata": {},
     "output_type": "display_data"
    }
   ],
   "source": [
    "#Année 2001\n",
    "sns.lineplot(data=pandas_daily_cancelled_2001, x=\"DayofYear\", y=\"TotalCancelled\", color=\"green\", label=\"2001\")"
   ]
  },
  {
   "cell_type": "markdown",
   "id": "6f3ae847-a7bc-437f-955d-b79bfef4b71f",
   "metadata": {},
   "source": [
    "Cette courbe montre qu'en 2001, le nombre maximal de vols annulés a été atteint autour du 255e jour de l'année."
   ]
  },
  {
   "cell_type": "code",
   "execution_count": null,
   "id": "36b16fb1-7346-49f0-ad87-1851ac47d1b2",
   "metadata": {},
   "outputs": [],
   "source": []
  },
  {
   "cell_type": "code",
   "execution_count": 48,
   "id": "8f38fb0e-f843-4776-868d-a23f14318d1d",
   "metadata": {},
   "outputs": [
    {
     "data": {
      "text/plain": [
       "<Axes: xlabel='DayofYear', ylabel='TotalCancelled'>"
      ]
     },
     "execution_count": 48,
     "metadata": {},
     "output_type": "execute_result"
    },
    {
     "data": {
      "image/png": "[encoded data removed]",
      "text/plain": [
       "<Figure size 640x480 with 1 Axes>"
      ]
     },
     "metadata": {},
     "output_type": "display_data"
    }
   ],
   "source": [
    "#Année 2002\n",
    "sns.lineplot(data=pandas_daily_cancelled_2002, x=\"DayofYear\", y=\"TotalCancelled\", color=\"red\", label=\"2002\")"
   ]
  },
  {
   "cell_type": "markdown",
   "id": "da5309f4-1941-4dfc-84fd-8c9d7c82886c",
   "metadata": {},
   "source": [
    "D'après cette courbe, en 2002, les vols annulés ont culminé vers le 340e jour de l'année."
   ]
  },
  {
   "cell_type": "code",
   "execution_count": null,
   "id": "91e977c8-faa4-4f87-8cd4-59a64489f395",
   "metadata": {},
   "outputs": [],
   "source": []
  },
  {
   "cell_type": "code",
   "execution_count": null,
   "id": "e2476425-48df-477b-b6d0-2008685379e4",
   "metadata": {},
   "outputs": [],
   "source": []
  },
  {
   "cell_type": "markdown",
   "id": "639c6fb9-4123-498b-b6a2-17b4aed42e95",
   "metadata": {},
   "source": [
    "## VI. Moyenne des vols annulés le 25 decembre"
   ]
  },
  {
   "cell_type": "markdown",
   "id": "40d833ae-ba92-4f74-ae27-64f48996d546",
   "metadata": {},
   "source": [
    "Ici, nous avons calculé la moyenne du nombre total de vols annulés pour tous les 25 décembre au cours des trois années consécutives."
   ]
  },
  {
   "cell_type": "code",
   "execution_count": 52,
   "id": "08786cf6-cb09-4e38-9441-2d7baaafc6be",
   "metadata": {},
   "outputs": [],
   "source": [
    "#Filtrage des vols annulés le 25 decembre\n",
    "cancelledDF = secondDF.filter((col(\"Cancelled\") == 1) & (col(\"Month\") == 12) & (col(\"DayofMonth\") == 25))"
   ]
  },
  {
   "cell_type": "code",
   "execution_count": 53,
   "id": "dc4ec90c-d42c-4da5-ae05-3e906bab9cff",
   "metadata": {},
   "outputs": [],
   "source": [
    "#Requete\n",
    "#Calcul du nombre total de vols annulés par années\n",
    "daily_cancelled_flights = cancelledDF.groupBy(\"Year\") \\\n",
    "                                         .agg(F.count(\"Cancelled\").alias(\"TotalCancelled\"))\n"
   ]
  },
  {
   "cell_type": "code",
   "execution_count": 54,
   "id": "23d326c3-31e2-4c7a-8f2f-32e378b34fa0",
   "metadata": {},
   "outputs": [],
   "source": [
    "#Moyenne du nombre total de vols annulés par année sur toutes les années\n",
    "average_cancelled_flights = daily_cancelled_flights.agg(F.avg(\"TotalCancelled\")).collect()[0][0]"
   ]
  },
  {
   "cell_type": "code",
   "execution_count": 55,
   "id": "76c03643-ae2d-4f8d-990d-01c6f88b830c",
   "metadata": {},
   "outputs": [
    {
     "name": "stdout",
     "output_type": "stream",
     "text": [
      "Moyenne des vols annulés le 25 décembre sur les années 2000, 2001 et 2002 : 568.3333333333334\n"
     ]
    }
   ],
   "source": [
    "#Affichage du resultat obtenu\n",
    "print(f\"Moyenne des vols annulés le 25 décembre sur les années 2000, 2001 et 2002 : {average_cancelled_flights}\")"
   ]
  },
  {
   "cell_type": "code",
   "execution_count": null,
   "id": "03e45c1e-7841-4364-bcc1-920eca994064",
   "metadata": {},
   "outputs": [],
   "source": []
  },
  {
   "cell_type": "code",
   "execution_count": null,
   "id": "a9984f22-d8cf-4d97-915e-1d6d22b879f3",
   "metadata": {},
   "outputs": [],
   "source": []
  },
  {
   "cell_type": "markdown",
   "id": "2aa5b731-b6fb-43b4-9def-334320e1d100",
   "metadata": {},
   "source": [
    "## Résumé"
   ]
  },
  {
   "cell_type": "markdown",
   "id": "53001d59-4526-454f-b91e-cbfe47e66b50",
   "metadata": {},
   "source": [
    " L'analyse des données d'annulations de vols a mis en évidence des modèles temporels importants, permettant d'identifier les mois et jours avec le plus grand nombre d'annulations. Ces informations sont essentielles pour ajuster les stratégies opérationnelles et améliorer la satisfaction des passagers."
   ]
  },
  {
   "cell_type": "code",
   "execution_count": null,
   "id": "63f14423-5c71-4a33-8194-ffdb2cb79aef",
   "metadata": {},
   "outputs": [],
   "source": []
  }
 ],
 "metadata": {
  "kernelspec": {
   "display_name": "Python 3 (ipykernel)",
   "language": "python",
   "name": "python3"
  },
  "language_info": {
   "codemirror_mode": {
    "name": "ipython",
    "version": 3
   },
   "file_extension": ".py",
   "mimetype": "text/x-python",
   "name": "python",
   "nbconvert_exporter": "python",
   "pygments_lexer": "ipython3",
   "version": "3.12.4"
  }
 },
 "nbformat": 4,
 "nbformat_minor": 5
}
